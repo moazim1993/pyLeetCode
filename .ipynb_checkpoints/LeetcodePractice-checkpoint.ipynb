{
 "cells": [
  {
   "cell_type": "markdown",
   "metadata": {},
   "source": [
    "# Leet code practice Questions\n",
    "\n",
    "This notebook will comtain my leetcode practice questions and info related to solving them.\n",
    "Additonal notes on all things technical interview will also be posted"
   ]
  },
  {
   "cell_type": "code",
   "execution_count": 14,
   "metadata": {},
   "outputs": [
    {
     "name": "stdout",
     "output_type": "stream",
     "text": [
      "fl\n",
      "\n",
      "p\n",
      "a\n",
      "\n",
      "\n"
     ]
    }
   ],
   "source": [
    "def longestCommonPrefix(strs):\n",
    "        common = \"\"\n",
    "        last = None\n",
    "        if len(strs) == 0:\n",
    "            return common\n",
    "        elif len(strs) == 1:\n",
    "            return strs[0]\n",
    "        length = min([len(i) for i in strs])\n",
    "        for s in strs[1:]:\n",
    "            if last == None:\n",
    "                last = strs[0]\n",
    "            flag = True\n",
    "            length  = min(len(last),len(s),length)\n",
    "            #print(last, s, length, common)\n",
    "            while flag:\n",
    "                if length == 0:\n",
    "                    common = \"\"\n",
    "                    flag = False\n",
    "                elif s[:length] == last[:length]:\n",
    "                    common = s[:length]\n",
    "                    flag = False\n",
    "                else:\n",
    "                    length -= 1\n",
    "                #print(last, s, length, common, flag,s[:length],last[:length])\n",
    "            last = s\n",
    "        return common\n",
    "\n",
    "\"\"\"\n",
    "# comment out\n",
    "\"\"\"\n",
    "# fl is the longest prefix\n",
    "test1 = [\"flower\",\"flow\",\"flight\"]\n",
    "res1 = longestCommonPrefix(test1)\n",
    "print(res1)\n",
    "\n",
    "# No common prefix\n",
    "test2 = [\"dog\",\"racecar\",\"car\"]\n",
    "res2 = longestCommonPrefix(test2)\n",
    "print(res2)\n",
    "\n",
    "# p is the longest common prefix\n",
    "test3 = [\"plan\",\"plants\",\"planing\",\"plop\", \"prop\"]\n",
    "res3 = longestCommonPrefix(test3)\n",
    "print(res3)\n",
    "\n",
    "# a is the answer\n",
    "test4 = [\"a\"]\n",
    "res4 = longestCommonPrefix(test4)\n",
    "print(res4)\n",
    "# \"\" is the answer\n",
    "test5 = []\n",
    "res5 = longestCommonPrefix(test5)\n",
    "print(res5)\n",
    "\n",
    "\n",
    "# \"\" is the answer\n",
    "test6 = [\"a\",\"a\",\"b\"]\n",
    "res6 = longestCommonPrefix(test6)\n",
    "print(res6)\n"
   ]
  },
  {
   "cell_type": "code",
   "execution_count": null,
   "metadata": {},
   "outputs": [],
   "source": [
    "            \n",
    "\"\"\"\n",
    "        if common == \"\" and match == True:\n",
    "            common = s\n",
    "        else:\n",
    "            match = True\n",
    "            ind = 1\n",
    "            while match:\n",
    "                #print(\"match: \",ind,s,common)\n",
    "                if s[:ind] == common[:ind]:\n",
    "                    common = s[:ind]\n",
    "                    #print(\"update common = \",s[:ind])\n",
    "                    ind += 1\n",
    "                else:\n",
    "                    if common == strs[0]:\n",
    "                        common == \"\"\n",
    "                    match = False\n",
    "\"\"\""
   ]
  },
  {
   "cell_type": "code",
   "execution_count": null,
   "metadata": {},
   "outputs": [],
   "source": [
    "def longestCommonPrefix(strs):\n",
    "    common = \"\"\n",
    "    last = strs[0]\n",
    "    match = True\n",
    "    for s in strs[1:]:\n",
    "        print(\"for \",s)\n",
    "        if common == \"\" and match == True:\n",
    "            common = s\n",
    "            print(\"common = \",s)\n",
    "        else:\n",
    "            match = True\n",
    "            ind = 0\n",
    "            while match:\n",
    "                print(\"match: \",ind,s,common)\n",
    "                if s[:ind] == common[:ind]:\n",
    "                    common = s[:ind]\n",
    "                    print(\"update common = \",s[:ind])\n",
    "                    ind += 1\n",
    "                else:\n",
    "                    print(\"Else: \",ind,s,)\n",
    "                    if common == strs[0]:\n",
    "                        common == \"\"\n",
    "                    match = False\n",
    "                    last = s\n",
    "                \n",
    "    return common"
   ]
  }
 ],
 "metadata": {
  "kernelspec": {
   "display_name": "Python 3",
   "language": "python",
   "name": "python3"
  },
  "language_info": {
   "codemirror_mode": {
    "name": "ipython",
    "version": 3
   },
   "file_extension": ".py",
   "mimetype": "text/x-python",
   "name": "python",
   "nbconvert_exporter": "python",
   "pygments_lexer": "ipython3",
   "version": "3.8.5"
  }
 },
 "nbformat": 4,
 "nbformat_minor": 4
}
